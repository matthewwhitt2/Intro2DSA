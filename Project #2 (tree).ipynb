{
 "cells": [
  {
   "cell_type": "code",
   "execution_count": null,
   "metadata": {},
   "outputs": [],
   "source": [
    "size=\"House size (in square meters): \"\n",
    "bed=\"Number of bedrooms: \"\n",
    "age=\"House age: \"\n",
    "\n",
    "while True:\n",
    "    a=int(input(size))\n",
    "    if a <= 160:\n",
    "        b=int(input(age))\n",
    "        if b >= 25:\n",
    "            if a <= 100:\n",
    "                print(\"Price = $217\")\n",
    "            else:\n",
    "                print(\"Price = $285\")\n",
    "        else:\n",
    "            c=int(input(bed))\n",
    "            if c <= 2:\n",
    "                print(\"Price = $258\")\n",
    "            else:\n",
    "                print(\"Price = $341\")\n",
    "    else:\n",
    "        c=int(input(bed))\n",
    "        if c <= 3:\n",
    "            b=int(input(age))\n",
    "            if b >= 40:\n",
    "                print(\"Price = $312\")\n",
    "            else:\n",
    "                print(\"Price = $335\")\n",
    "        else:\n",
    "            b=int(input(age))\n",
    "            if b >= 10:\n",
    "                print(\"Price = $382\")\n",
    "            else:          \n",
    "                print(\"Price = $510\")\n",
    "                \n",
    "    cont = input(\"Would you like to run again?: \")\n",
    "    while cont.lower() not in (\"yes\",\"no\"):\n",
    "        cont = input(\"Please enter only: 'yes' or 'no' \")\n",
    "    if cont == \"no\":\n",
    "        print(\"Have a nice day!\")\n",
    "        break"
   ]
  },
  {
   "cell_type": "code",
   "execution_count": null,
   "metadata": {},
   "outputs": [],
   "source": []
  },
  {
   "cell_type": "code",
   "execution_count": null,
   "metadata": {},
   "outputs": [],
   "source": []
  }
 ],
 "metadata": {
  "kernelspec": {
   "display_name": "Python 3",
   "language": "python",
   "name": "python3"
  },
  "language_info": {
   "codemirror_mode": {
    "name": "ipython",
    "version": 3
   },
   "file_extension": ".py",
   "mimetype": "text/x-python",
   "name": "python",
   "nbconvert_exporter": "python",
   "pygments_lexer": "ipython3",
   "version": "3.6.5"
  }
 },
 "nbformat": 4,
 "nbformat_minor": 2
}
